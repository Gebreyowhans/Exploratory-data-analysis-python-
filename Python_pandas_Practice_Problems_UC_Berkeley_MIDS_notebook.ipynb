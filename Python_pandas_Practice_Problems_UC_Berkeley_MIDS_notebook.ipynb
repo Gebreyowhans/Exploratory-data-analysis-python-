{
  "nbformat": 4,
  "nbformat_minor": 0,
  "metadata": {
    "colab": {
      "provenance": [],
      "include_colab_link": true
    },
    "kernelspec": {
      "name": "python3",
      "display_name": "Python 3"
    },
    "language_info": {
      "name": "python"
    }
  },
  "cells": [
    {
      "cell_type": "markdown",
      "metadata": {
        "id": "view-in-github",
        "colab_type": "text"
      },
      "source": [
        "<a href=\"https://colab.research.google.com/github/Gebreyowhans/Exploratory-data-analysis-python-/blob/main/Python_pandas_Practice_Problems_UC_Berkeley_MIDS_notebook.ipynb\" target=\"_parent\"><img src=\"https://colab.research.google.com/assets/colab-badge.svg\" alt=\"Open In Colab\"/></a>"
      ]
    },
    {
      "cell_type": "markdown",
      "source": [
        "# Python pandas Practice Problems\n",
        "\n",
        "Welcome to datascience@berkeley's collection of Python pandas practice problems.\n",
        "\n",
        "To use this notebook, go to `File` --> `Save a copy in Drive` in the menu bar above to create a copy of this notebook on your computer. A new tab will open with the copy and you will be the owner. Your version will not be visible to anyone else.\n",
        "\n",
        "A few notes to get you started:\n",
        "\n",
        "* The space provided for code is not a line limit or hint. Add and use as many lines of code or additional cells as necessary.\n",
        "* Lines preceded with '#' are comments and provide additional explanation but will not affect written code or execution.\n",
        "* Solutions can be found in the complementary [Python pandas Practice Problems for Beginners - Solutions notebook](https://colab.research.google.com/drive/1f8PTrhgJR093fBth5Ka23KCWTIGbgPds?usp=sharing).\n",
        "* Additional resources for the concepts used in each problem can be found at [the blog post here](https://ischoolonline.berkeley.edu/blog/python-pandas-practice-problems/).\n",
        "\n",
        "\\"
      ],
      "metadata": {
        "id": "Q_rqa1jwKd5v"
      }
    },
    {
      "cell_type": "code",
      "execution_count": 1,
      "metadata": {
        "id": "_DgRNdroKTwF"
      },
      "outputs": [],
      "source": [
        "# Import statements go here\n",
        "\n",
        "import pandas as pd\n",
        "import statsmodels.api as sm"
      ]
    },
    {
      "cell_type": "markdown",
      "source": [
        "## Importing Data and Making a DataFrame\n",
        "The statsmodels package (installed in the code cell above) includes built-in datasets. Execute the code below to download data from the [American National Election Studies of 1996](https://www.statsmodels.org/dev/datasets/generated/anes96.html) and print a detailed description of the schema.\n",
        "\n",
        "The next cell extracts the `Dataset` object from the submodule and saves the `DataFrame` to the variable `df`. In the questions that follow, use `df` when referencing the dataset."
      ],
      "metadata": {
        "id": "525Moc9hEfFr"
      }
    },
    {
      "cell_type": "code",
      "source": [
        "anes96 = sm.datasets.anes96\n",
        "print(anes96.NOTE)"
      ],
      "metadata": {
        "colab": {
          "base_uri": "https://localhost:8080/"
        },
        "id": "d-bGIc2VNqvW",
        "outputId": "47c59e0c-4aa5-4e24-8ac9-7a9c17538c8b"
      },
      "execution_count": 2,
      "outputs": [
        {
          "output_type": "stream",
          "name": "stdout",
          "text": [
            "::\n",
            "\n",
            "    Number of observations - 944\n",
            "    Number of variables - 10\n",
            "\n",
            "    Variables name definitions::\n",
            "\n",
            "            popul - Census place population in 1000s\n",
            "            TVnews - Number of times per week that respondent watches TV news.\n",
            "            PID - Party identification of respondent.\n",
            "                0 - Strong Democrat\n",
            "                1 - Weak Democrat\n",
            "                2 - Independent-Democrat\n",
            "                3 - Independent-Indpendent\n",
            "                4 - Independent-Republican\n",
            "                5 - Weak Republican\n",
            "                6 - Strong Republican\n",
            "            age : Age of respondent.\n",
            "            educ - Education level of respondent\n",
            "                1 - 1-8 grades\n",
            "                2 - Some high school\n",
            "                3 - High school graduate\n",
            "                4 - Some college\n",
            "                5 - College degree\n",
            "                6 - Master's degree\n",
            "                7 - PhD\n",
            "            income - Income of household\n",
            "                1  - None or less than $2,999\n",
            "                2  - $3,000-$4,999\n",
            "                3  - $5,000-$6,999\n",
            "                4  - $7,000-$8,999\n",
            "                5  - $9,000-$9,999\n",
            "                6  - $10,000-$10,999\n",
            "                7  - $11,000-$11,999\n",
            "                8  - $12,000-$12,999\n",
            "                9  - $13,000-$13,999\n",
            "                10 - $14,000-$14.999\n",
            "                11 - $15,000-$16,999\n",
            "                12 - $17,000-$19,999\n",
            "                13 - $20,000-$21,999\n",
            "                14 - $22,000-$24,999\n",
            "                15 - $25,000-$29,999\n",
            "                16 - $30,000-$34,999\n",
            "                17 - $35,000-$39,999\n",
            "                18 - $40,000-$44,999\n",
            "                19 - $45,000-$49,999\n",
            "                20 - $50,000-$59,999\n",
            "                21 - $60,000-$74,999\n",
            "                22 - $75,000-89,999\n",
            "                23 - $90,000-$104,999\n",
            "                24 - $105,000 and over\n",
            "            vote - Expected vote\n",
            "                0 - Clinton\n",
            "                1 - Dole\n",
            "            The following 3 variables all take the values:\n",
            "                1 - Extremely liberal\n",
            "                2 - Liberal\n",
            "                3 - Slightly liberal\n",
            "                4 - Moderate\n",
            "                5 - Slightly conservative\n",
            "                6 - Conservative\n",
            "                7 - Extremely Conservative\n",
            "            selfLR - Respondent's self-reported political leanings from \"Left\"\n",
            "                to \"Right\".\n",
            "            ClinLR - Respondents impression of Bill Clinton's political\n",
            "                leanings from \"Left\" to \"Right\".\n",
            "            DoleLR  - Respondents impression of Bob Dole's political leanings\n",
            "                from \"Left\" to \"Right\".\n",
            "            logpopul - log(popul + .1)\n",
            "\n"
          ]
        }
      ]
    },
    {
      "cell_type": "code",
      "source": [
        "dataset_anes96 = anes96.load_pandas()\n",
        "df = dataset_anes96.data"
      ],
      "metadata": {
        "id": "0aVym7SVK-IU"
      },
      "execution_count": 3,
      "outputs": []
    },
    {
      "cell_type": "markdown",
      "source": [
        "## 1. DataFrame Basic Properties Exercise\n",
        "\n",
        "Our DataFrame (`df`) contains data on registered voters in the United States, including demographic information and political preference. Using `pandas`, print the first 5 rows of the DataFrame to get a sense of what the data looks like. Next, answer the following questions:\n",
        "\n",
        "\n",
        "*   How many observations are in the DataFrame?\n",
        "*   How many variables are measured (how many columns)?\n",
        "*   What is the age of the youngest person in the data? The oldest?\n",
        "*   How many days a week does the average respondent watch TV news (round to the nearest tenth)?\n",
        "*   Check for missing values. Are there any?\n",
        "\n",
        "\n",
        "\n",
        "\n"
      ],
      "metadata": {
        "id": "kBHruDwCK1mH"
      }
    },
    {
      "cell_type": "code",
      "source": [
        "#print the first 5 rows of the DataFrame to get a sense of what the data looks like\n",
        "\n",
        "print(df.head(5))\n",
        "\n",
        "#How many observations are in the DataFrame?\n",
        "print(f'Observations : {df.shape[0]}')\n",
        "\n",
        "#How many variables are measured (how many columns)?\n",
        "print(f'Number Features : {df.shape[1]}')\n",
        "\n",
        "#What is the age of the youngest person in the data? The oldest?\n",
        "\n",
        "print(f'Age of youngest person : {df.age.min()}')\n",
        "\n",
        "#What is the age of the oldest person in the data? The oldest?\n",
        "\n",
        "print(f'Age of Oldest person : {df.age.max()}')\n",
        "\n",
        "\n",
        "# How many days a week does the average respondent watch TV news (round to the nearest tenth)?\n",
        "\n",
        "print('Average respondent  TV news watch {:.1f}'.format(df.TVnews.mean()))\n",
        "\n",
        "# Another way\n",
        "print(f\"The average respondent watches TV news {df.TVnews.mean():.1f} days a week.\")\n",
        "\n",
        "\n",
        "\n",
        "def missing_values(df):\n",
        "  return df.isnull().sum().to_frame().rename(columns={0:'missing_value'})\n",
        "\n",
        "print(f\"Columns: {missing_values(df)}\")\n",
        "\n",
        "\n"
      ],
      "metadata": {
        "id": "kh7hT9QyEsxl",
        "colab": {
          "base_uri": "https://localhost:8080/"
        },
        "outputId": "f5e3ecb7-62e0-450f-fc5a-fbdd13c8d781"
      },
      "execution_count": 8,
      "outputs": [
        {
          "output_type": "stream",
          "name": "stdout",
          "text": [
            "   popul  TVnews  selfLR  ClinLR  DoleLR  PID   age  educ  income  vote  \\\n",
            "0    0.0     7.0     7.0     1.0     6.0  6.0  36.0   3.0     1.0   1.0   \n",
            "1  190.0     1.0     3.0     3.0     5.0  1.0  20.0   4.0     1.0   0.0   \n",
            "2   31.0     7.0     2.0     2.0     6.0  1.0  24.0   6.0     1.0   0.0   \n",
            "3   83.0     4.0     3.0     4.0     5.0  1.0  28.0   6.0     1.0   0.0   \n",
            "4  640.0     7.0     5.0     6.0     4.0  0.0  68.0   6.0     1.0   0.0   \n",
            "\n",
            "   logpopul  \n",
            "0 -2.302585  \n",
            "1  5.247550  \n",
            "2  3.437208  \n",
            "3  4.420045  \n",
            "4  6.461624  \n",
            "Observations : 944\n",
            "Number Features : 11\n",
            "Age of youngest person : 19.0\n",
            "Age of Oldest person : 91.0\n",
            "Average respondent  TV news watch 3.7\n",
            "The average respondent watches TV news 3.7 days a week.\n",
            "Columns:           missing_value\n",
            "popul                 0\n",
            "TVnews                0\n",
            "selfLR                0\n",
            "ClinLR                0\n",
            "DoleLR                0\n",
            "PID                   0\n",
            "age                   0\n",
            "educ                  0\n",
            "income                0\n",
            "vote                  0\n",
            "logpopul              0\n"
          ]
        }
      ]
    },
    {
      "cell_type": "markdown",
      "source": [
        "## 2. Data Processing Exercise\n",
        "\n",
        "We want to adjust the dataset for our use. Do the following:\n",
        "\n",
        "\n",
        "*   Rename the `educ` column `education`.\n",
        "*   Create a new column called `party` based on each respondent's answer to `PID`. `party` should equal `Democrat` if the respondent selected either Strong Democrat or Weak Democrat. `party` will equal `Republican` if the respondent selected Strong or Weak Republican for `PID` and `Independent` if they selected anything else.\n",
        "*   Create a new column called `age_group` that buckets respondents into the following categories based on their `age`: 18-24, 25-34, 35-44, 45-54, 55-64, and 65 and over.\n",
        "\n"
      ],
      "metadata": {
        "id": "RMerTMKXLA9f"
      }
    },
    {
      "cell_type": "code",
      "source": [
        "# Rename the educ column education.\n",
        "df.rename(columns={'educ':'education'},inplace=True)\n",
        "\n",
        "'''\n",
        "Create a new column called party based on each respondent's answer to PID. party should equal Democrat if the\n",
        " respondent selected either Strong Democrat or Weak Democrat. party will equal Republican if the respondent selected Strong or Weak Republican for PID and Independent if they selected anything else.\n",
        "\n",
        "'''\n",
        "def get_party(pid):\n",
        "\n",
        "  if pid < 2:\n",
        "    return 'Democrat'\n",
        "\n",
        "  elif pid > 4:\n",
        "     return 'Republican'\n",
        "\n",
        "  else:\n",
        "    return 'Independent'\n",
        "\n",
        "df['party']=df.PID.apply(get_party)\n",
        "df.head(2)\n",
        "\n"
      ],
      "metadata": {
        "id": "QaxRXEVULDGn",
        "colab": {
          "base_uri": "https://localhost:8080/",
          "height": 112
        },
        "outputId": "6d738a0e-4caf-43c2-f33f-dcaa7d90d02f"
      },
      "execution_count": 11,
      "outputs": [
        {
          "output_type": "execute_result",
          "data": {
            "text/plain": [
              "   popul  TVnews  selfLR  ClinLR  DoleLR  PID   age  education  income  vote  \\\n",
              "0    0.0     7.0     7.0     1.0     6.0  6.0  36.0        3.0     1.0   1.0   \n",
              "1  190.0     1.0     3.0     3.0     5.0  1.0  20.0        4.0     1.0   0.0   \n",
              "\n",
              "   logpopul       party  \n",
              "0 -2.302585  Republican  \n",
              "1  5.247550    Democrat  "
            ],
            "text/html": [
              "\n",
              "  <div id=\"df-628b8844-5349-451b-8284-991c522fe609\" class=\"colab-df-container\">\n",
              "    <div>\n",
              "<style scoped>\n",
              "    .dataframe tbody tr th:only-of-type {\n",
              "        vertical-align: middle;\n",
              "    }\n",
              "\n",
              "    .dataframe tbody tr th {\n",
              "        vertical-align: top;\n",
              "    }\n",
              "\n",
              "    .dataframe thead th {\n",
              "        text-align: right;\n",
              "    }\n",
              "</style>\n",
              "<table border=\"1\" class=\"dataframe\">\n",
              "  <thead>\n",
              "    <tr style=\"text-align: right;\">\n",
              "      <th></th>\n",
              "      <th>popul</th>\n",
              "      <th>TVnews</th>\n",
              "      <th>selfLR</th>\n",
              "      <th>ClinLR</th>\n",
              "      <th>DoleLR</th>\n",
              "      <th>PID</th>\n",
              "      <th>age</th>\n",
              "      <th>education</th>\n",
              "      <th>income</th>\n",
              "      <th>vote</th>\n",
              "      <th>logpopul</th>\n",
              "      <th>party</th>\n",
              "    </tr>\n",
              "  </thead>\n",
              "  <tbody>\n",
              "    <tr>\n",
              "      <th>0</th>\n",
              "      <td>0.0</td>\n",
              "      <td>7.0</td>\n",
              "      <td>7.0</td>\n",
              "      <td>1.0</td>\n",
              "      <td>6.0</td>\n",
              "      <td>6.0</td>\n",
              "      <td>36.0</td>\n",
              "      <td>3.0</td>\n",
              "      <td>1.0</td>\n",
              "      <td>1.0</td>\n",
              "      <td>-2.302585</td>\n",
              "      <td>Republican</td>\n",
              "    </tr>\n",
              "    <tr>\n",
              "      <th>1</th>\n",
              "      <td>190.0</td>\n",
              "      <td>1.0</td>\n",
              "      <td>3.0</td>\n",
              "      <td>3.0</td>\n",
              "      <td>5.0</td>\n",
              "      <td>1.0</td>\n",
              "      <td>20.0</td>\n",
              "      <td>4.0</td>\n",
              "      <td>1.0</td>\n",
              "      <td>0.0</td>\n",
              "      <td>5.247550</td>\n",
              "      <td>Democrat</td>\n",
              "    </tr>\n",
              "  </tbody>\n",
              "</table>\n",
              "</div>\n",
              "    <div class=\"colab-df-buttons\">\n",
              "\n",
              "  <div class=\"colab-df-container\">\n",
              "    <button class=\"colab-df-convert\" onclick=\"convertToInteractive('df-628b8844-5349-451b-8284-991c522fe609')\"\n",
              "            title=\"Convert this dataframe to an interactive table.\"\n",
              "            style=\"display:none;\">\n",
              "\n",
              "  <svg xmlns=\"http://www.w3.org/2000/svg\" height=\"24px\" viewBox=\"0 -960 960 960\">\n",
              "    <path d=\"M120-120v-720h720v720H120Zm60-500h600v-160H180v160Zm220 220h160v-160H400v160Zm0 220h160v-160H400v160ZM180-400h160v-160H180v160Zm440 0h160v-160H620v160ZM180-180h160v-160H180v160Zm440 0h160v-160H620v160Z\"/>\n",
              "  </svg>\n",
              "    </button>\n",
              "\n",
              "  <style>\n",
              "    .colab-df-container {\n",
              "      display:flex;\n",
              "      gap: 12px;\n",
              "    }\n",
              "\n",
              "    .colab-df-convert {\n",
              "      background-color: #E8F0FE;\n",
              "      border: none;\n",
              "      border-radius: 50%;\n",
              "      cursor: pointer;\n",
              "      display: none;\n",
              "      fill: #1967D2;\n",
              "      height: 32px;\n",
              "      padding: 0 0 0 0;\n",
              "      width: 32px;\n",
              "    }\n",
              "\n",
              "    .colab-df-convert:hover {\n",
              "      background-color: #E2EBFA;\n",
              "      box-shadow: 0px 1px 2px rgba(60, 64, 67, 0.3), 0px 1px 3px 1px rgba(60, 64, 67, 0.15);\n",
              "      fill: #174EA6;\n",
              "    }\n",
              "\n",
              "    .colab-df-buttons div {\n",
              "      margin-bottom: 4px;\n",
              "    }\n",
              "\n",
              "    [theme=dark] .colab-df-convert {\n",
              "      background-color: #3B4455;\n",
              "      fill: #D2E3FC;\n",
              "    }\n",
              "\n",
              "    [theme=dark] .colab-df-convert:hover {\n",
              "      background-color: #434B5C;\n",
              "      box-shadow: 0px 1px 3px 1px rgba(0, 0, 0, 0.15);\n",
              "      filter: drop-shadow(0px 1px 2px rgba(0, 0, 0, 0.3));\n",
              "      fill: #FFFFFF;\n",
              "    }\n",
              "  </style>\n",
              "\n",
              "    <script>\n",
              "      const buttonEl =\n",
              "        document.querySelector('#df-628b8844-5349-451b-8284-991c522fe609 button.colab-df-convert');\n",
              "      buttonEl.style.display =\n",
              "        google.colab.kernel.accessAllowed ? 'block' : 'none';\n",
              "\n",
              "      async function convertToInteractive(key) {\n",
              "        const element = document.querySelector('#df-628b8844-5349-451b-8284-991c522fe609');\n",
              "        const dataTable =\n",
              "          await google.colab.kernel.invokeFunction('convertToInteractive',\n",
              "                                                    [key], {});\n",
              "        if (!dataTable) return;\n",
              "\n",
              "        const docLinkHtml = 'Like what you see? Visit the ' +\n",
              "          '<a target=\"_blank\" href=https://colab.research.google.com/notebooks/data_table.ipynb>data table notebook</a>'\n",
              "          + ' to learn more about interactive tables.';\n",
              "        element.innerHTML = '';\n",
              "        dataTable['output_type'] = 'display_data';\n",
              "        await google.colab.output.renderOutput(dataTable, element);\n",
              "        const docLink = document.createElement('div');\n",
              "        docLink.innerHTML = docLinkHtml;\n",
              "        element.appendChild(docLink);\n",
              "      }\n",
              "    </script>\n",
              "  </div>\n",
              "\n",
              "\n",
              "<div id=\"df-e73c4892-d15f-4149-a8a5-016d450a2f27\">\n",
              "  <button class=\"colab-df-quickchart\" onclick=\"quickchart('df-e73c4892-d15f-4149-a8a5-016d450a2f27')\"\n",
              "            title=\"Suggest charts\"\n",
              "            style=\"display:none;\">\n",
              "\n",
              "<svg xmlns=\"http://www.w3.org/2000/svg\" height=\"24px\"viewBox=\"0 0 24 24\"\n",
              "     width=\"24px\">\n",
              "    <g>\n",
              "        <path d=\"M19 3H5c-1.1 0-2 .9-2 2v14c0 1.1.9 2 2 2h14c1.1 0 2-.9 2-2V5c0-1.1-.9-2-2-2zM9 17H7v-7h2v7zm4 0h-2V7h2v10zm4 0h-2v-4h2v4z\"/>\n",
              "    </g>\n",
              "</svg>\n",
              "  </button>\n",
              "\n",
              "<style>\n",
              "  .colab-df-quickchart {\n",
              "      --bg-color: #E8F0FE;\n",
              "      --fill-color: #1967D2;\n",
              "      --hover-bg-color: #E2EBFA;\n",
              "      --hover-fill-color: #174EA6;\n",
              "      --disabled-fill-color: #AAA;\n",
              "      --disabled-bg-color: #DDD;\n",
              "  }\n",
              "\n",
              "  [theme=dark] .colab-df-quickchart {\n",
              "      --bg-color: #3B4455;\n",
              "      --fill-color: #D2E3FC;\n",
              "      --hover-bg-color: #434B5C;\n",
              "      --hover-fill-color: #FFFFFF;\n",
              "      --disabled-bg-color: #3B4455;\n",
              "      --disabled-fill-color: #666;\n",
              "  }\n",
              "\n",
              "  .colab-df-quickchart {\n",
              "    background-color: var(--bg-color);\n",
              "    border: none;\n",
              "    border-radius: 50%;\n",
              "    cursor: pointer;\n",
              "    display: none;\n",
              "    fill: var(--fill-color);\n",
              "    height: 32px;\n",
              "    padding: 0;\n",
              "    width: 32px;\n",
              "  }\n",
              "\n",
              "  .colab-df-quickchart:hover {\n",
              "    background-color: var(--hover-bg-color);\n",
              "    box-shadow: 0 1px 2px rgba(60, 64, 67, 0.3), 0 1px 3px 1px rgba(60, 64, 67, 0.15);\n",
              "    fill: var(--button-hover-fill-color);\n",
              "  }\n",
              "\n",
              "  .colab-df-quickchart-complete:disabled,\n",
              "  .colab-df-quickchart-complete:disabled:hover {\n",
              "    background-color: var(--disabled-bg-color);\n",
              "    fill: var(--disabled-fill-color);\n",
              "    box-shadow: none;\n",
              "  }\n",
              "\n",
              "  .colab-df-spinner {\n",
              "    border: 2px solid var(--fill-color);\n",
              "    border-color: transparent;\n",
              "    border-bottom-color: var(--fill-color);\n",
              "    animation:\n",
              "      spin 1s steps(1) infinite;\n",
              "  }\n",
              "\n",
              "  @keyframes spin {\n",
              "    0% {\n",
              "      border-color: transparent;\n",
              "      border-bottom-color: var(--fill-color);\n",
              "      border-left-color: var(--fill-color);\n",
              "    }\n",
              "    20% {\n",
              "      border-color: transparent;\n",
              "      border-left-color: var(--fill-color);\n",
              "      border-top-color: var(--fill-color);\n",
              "    }\n",
              "    30% {\n",
              "      border-color: transparent;\n",
              "      border-left-color: var(--fill-color);\n",
              "      border-top-color: var(--fill-color);\n",
              "      border-right-color: var(--fill-color);\n",
              "    }\n",
              "    40% {\n",
              "      border-color: transparent;\n",
              "      border-right-color: var(--fill-color);\n",
              "      border-top-color: var(--fill-color);\n",
              "    }\n",
              "    60% {\n",
              "      border-color: transparent;\n",
              "      border-right-color: var(--fill-color);\n",
              "    }\n",
              "    80% {\n",
              "      border-color: transparent;\n",
              "      border-right-color: var(--fill-color);\n",
              "      border-bottom-color: var(--fill-color);\n",
              "    }\n",
              "    90% {\n",
              "      border-color: transparent;\n",
              "      border-bottom-color: var(--fill-color);\n",
              "    }\n",
              "  }\n",
              "</style>\n",
              "\n",
              "  <script>\n",
              "    async function quickchart(key) {\n",
              "      const quickchartButtonEl =\n",
              "        document.querySelector('#' + key + ' button');\n",
              "      quickchartButtonEl.disabled = true;  // To prevent multiple clicks.\n",
              "      quickchartButtonEl.classList.add('colab-df-spinner');\n",
              "      try {\n",
              "        const charts = await google.colab.kernel.invokeFunction(\n",
              "            'suggestCharts', [key], {});\n",
              "      } catch (error) {\n",
              "        console.error('Error during call to suggestCharts:', error);\n",
              "      }\n",
              "      quickchartButtonEl.classList.remove('colab-df-spinner');\n",
              "      quickchartButtonEl.classList.add('colab-df-quickchart-complete');\n",
              "    }\n",
              "    (() => {\n",
              "      let quickchartButtonEl =\n",
              "        document.querySelector('#df-e73c4892-d15f-4149-a8a5-016d450a2f27 button');\n",
              "      quickchartButtonEl.style.display =\n",
              "        google.colab.kernel.accessAllowed ? 'block' : 'none';\n",
              "    })();\n",
              "  </script>\n",
              "</div>\n",
              "\n",
              "    </div>\n",
              "  </div>\n"
            ],
            "application/vnd.google.colaboratory.intrinsic+json": {
              "type": "dataframe",
              "variable_name": "df",
              "summary": "{\n  \"name\": \"df\",\n  \"rows\": 944,\n  \"fields\": [\n    {\n      \"column\": \"popul\",\n      \"properties\": {\n        \"dtype\": \"number\",\n        \"std\": 1082.606745077667,\n        \"min\": 0.0,\n        \"max\": 7300.0,\n        \"num_unique_values\": 99,\n        \"samples\": [\n          370.0,\n          170.0,\n          88.0\n        ],\n        \"semantic_type\": \"\",\n        \"description\": \"\"\n      }\n    },\n    {\n      \"column\": \"TVnews\",\n      \"properties\": {\n        \"dtype\": \"number\",\n        \"std\": 2.6772346171196837,\n        \"min\": 0.0,\n        \"max\": 7.0,\n        \"num_unique_values\": 8,\n        \"samples\": [\n          1.0,\n          5.0,\n          7.0\n        ],\n        \"semantic_type\": \"\",\n        \"description\": \"\"\n      }\n    },\n    {\n      \"column\": \"selfLR\",\n      \"properties\": {\n        \"dtype\": \"number\",\n        \"std\": 1.4384361565557473,\n        \"min\": 1.0,\n        \"max\": 7.0,\n        \"num_unique_values\": 7,\n        \"samples\": [\n          7.0,\n          3.0,\n          6.0\n        ],\n        \"semantic_type\": \"\",\n        \"description\": \"\"\n      }\n    },\n    {\n      \"column\": \"ClinLR\",\n      \"properties\": {\n        \"dtype\": \"number\",\n        \"std\": 1.3837253812680816,\n        \"min\": 1.0,\n        \"max\": 7.0,\n        \"num_unique_values\": 7,\n        \"samples\": [\n          1.0,\n          3.0,\n          7.0\n        ],\n        \"semantic_type\": \"\",\n        \"description\": \"\"\n      }\n    },\n    {\n      \"column\": \"DoleLR\",\n      \"properties\": {\n        \"dtype\": \"number\",\n        \"std\": 1.269349404444306,\n        \"min\": 1.0,\n        \"max\": 7.0,\n        \"num_unique_values\": 7,\n        \"samples\": [\n          6.0,\n          5.0,\n          2.0\n        ],\n        \"semantic_type\": \"\",\n        \"description\": \"\"\n      }\n    },\n    {\n      \"column\": \"PID\",\n      \"properties\": {\n        \"dtype\": \"number\",\n        \"std\": 2.273337083858358,\n        \"min\": 0.0,\n        \"max\": 6.0,\n        \"num_unique_values\": 7,\n        \"samples\": [\n          6.0,\n          1.0,\n          5.0\n        ],\n        \"semantic_type\": \"\",\n        \"description\": \"\"\n      }\n    },\n    {\n      \"column\": \"age\",\n      \"properties\": {\n        \"dtype\": \"number\",\n        \"std\": 16.423130472188713,\n        \"min\": 19.0,\n        \"max\": 91.0,\n        \"num_unique_values\": 71,\n        \"samples\": [\n          34.0,\n          36.0,\n          53.0\n        ],\n        \"semantic_type\": \"\",\n        \"description\": \"\"\n      }\n    },\n    {\n      \"column\": \"education\",\n      \"properties\": {\n        \"dtype\": \"number\",\n        \"std\": 1.5992866802358294,\n        \"min\": 1.0,\n        \"max\": 7.0,\n        \"num_unique_values\": 7,\n        \"samples\": [\n          3.0,\n          4.0,\n          1.0\n        ],\n        \"semantic_type\": \"\",\n        \"description\": \"\"\n      }\n    },\n    {\n      \"column\": \"income\",\n      \"properties\": {\n        \"dtype\": \"number\",\n        \"std\": 5.974780799225371,\n        \"min\": 1.0,\n        \"max\": 24.0,\n        \"num_unique_values\": 24,\n        \"samples\": [\n          9.0,\n          17.0,\n          1.0\n        ],\n        \"semantic_type\": \"\",\n        \"description\": \"\"\n      }\n    },\n    {\n      \"column\": \"vote\",\n      \"properties\": {\n        \"dtype\": \"number\",\n        \"std\": 0.49320813481593295,\n        \"min\": 0.0,\n        \"max\": 1.0,\n        \"num_unique_values\": 2,\n        \"samples\": [\n          0.0,\n          1.0\n        ],\n        \"semantic_type\": \"\",\n        \"description\": \"\"\n      }\n    },\n    {\n      \"column\": \"logpopul\",\n      \"properties\": {\n        \"dtype\": \"number\",\n        \"std\": 3.18704346768213,\n        \"min\": -2.3025850929940455,\n        \"max\": 8.895643325672793,\n        \"num_unique_values\": 99,\n        \"samples\": [\n          5.9137732393921105,\n          5.136386499401816\n        ],\n        \"semantic_type\": \"\",\n        \"description\": \"\"\n      }\n    },\n    {\n      \"column\": \"party\",\n      \"properties\": {\n        \"dtype\": \"category\",\n        \"num_unique_values\": 3,\n        \"samples\": [\n          \"Republican\",\n          \"Democrat\"\n        ],\n        \"semantic_type\": \"\",\n        \"description\": \"\"\n      }\n    }\n  ]\n}"
            }
          },
          "metadata": {},
          "execution_count": 11
        }
      ]
    },
    {
      "cell_type": "code",
      "source": [
        "df.party.value_counts()"
      ],
      "metadata": {
        "id": "Ajfzb8URqpzy",
        "outputId": "a55bfb78-7810-4430-a01d-cfc38c30806a",
        "colab": {
          "base_uri": "https://localhost:8080/"
        }
      },
      "execution_count": 12,
      "outputs": [
        {
          "output_type": "execute_result",
          "data": {
            "text/plain": [
              "party\n",
              "Democrat       380\n",
              "Republican     325\n",
              "Independent    239\n",
              "Name: count, dtype: int64"
            ]
          },
          "metadata": {},
          "execution_count": 12
        }
      ]
    },
    {
      "cell_type": "code",
      "source": [
        "\n",
        "'''\n",
        "Create a new column called age_group that buckets respondents into the following\n",
        "categories based on their age: 18-24, 25-34, 35-44, 45-54, 55-64, and 65 and over.\n",
        "\n",
        "'''\n",
        "def get_agegroup(age):\n",
        "  bins=[0, 25, 35, 45, 55, 65, float('inf')]\n",
        "  labels = [\"18-24\", \"25-34\", \"35-44\", \"45-54\", \"55-64\", \"65+\"]\n",
        "\n",
        "  return pd.cut([age],bins=bins,labels=labels,right=False)[0]\n",
        "\n",
        "\n",
        "df['age_group']=df.age.apply(get_agegroup)"
      ],
      "metadata": {
        "id": "KiQeCkhKu8WW"
      },
      "execution_count": 24,
      "outputs": []
    },
    {
      "cell_type": "code",
      "source": [
        "print(df[df.age ==23])"
      ],
      "metadata": {
        "id": "4UOeXE2Rw6qJ",
        "outputId": "46d2d2d9-1763-454e-bc36-edcaa1d1186d",
        "colab": {
          "base_uri": "https://localhost:8080/"
        }
      },
      "execution_count": 23,
      "outputs": [
        {
          "output_type": "stream",
          "name": "stdout",
          "text": [
            "      popul  TVnews  selfLR  ClinLR  DoleLR  PID   age  education  income  \\\n",
            "169    12.0     0.0     4.0     5.0     3.0  4.0  23.0        3.0    11.0   \n",
            "234    31.0     2.0     4.0     4.0     3.0  4.0  23.0        5.0    13.0   \n",
            "506     0.0     2.0     4.0     5.0     2.0  0.0  23.0        2.0    18.0   \n",
            "513  2800.0     7.0     2.0     2.0     7.0  0.0  23.0        4.0    18.0   \n",
            "763    50.0     3.0     6.0     4.0     1.0  1.0  23.0        3.0    21.0   \n",
            "783     0.0     2.0     4.0     3.0     6.0  2.0  23.0        6.0    22.0   \n",
            "\n",
            "     vote  logpopul        party age_group  \n",
            "169   0.0  2.493205  Independent     18-24  \n",
            "234   1.0  3.437208  Independent     18-24  \n",
            "506   0.0 -2.302585     Democrat     18-24  \n",
            "513   0.0  7.937410     Democrat     18-24  \n",
            "763   0.0  3.914021     Democrat     18-24  \n",
            "783   0.0 -2.302585  Independent     18-24  \n"
          ]
        }
      ]
    },
    {
      "cell_type": "markdown",
      "source": [
        "## 3. Filtering Data Exercise\n",
        "\n",
        "Use the filtering method to find all the respondents who have the impression that Bill Clinton is moderate or conservative (`ClinLR` equals 4 or higher). How many respondents are in this subset?\n",
        "\n",
        "Among these respondents, how many have a household income less than $50,000 and attended at least some college?"
      ],
      "metadata": {
        "id": "FaisnScALWND"
      }
    },
    {
      "cell_type": "code",
      "source": [
        "'''\n",
        "Use the filtering method to find all the respondents who have the impression that Bill Clinton is moderate or conservative\n",
        "(ClinLR equals 4 or higher). How many respondents are in this subset?\n",
        "'''\n",
        "respondents= df[df.ClinLR >=4]\n",
        "\n",
        "print(f'Respondents for ClinLR equals 4 or higher are :  {respondents.shape[0]}')\n",
        "\n",
        "print(f'respondents with income less than $50,000 and attended at least some college are :{len(respondents[(respondents.income < 20) & (respondents.education >3)])}')\n",
        "\n"
      ],
      "metadata": {
        "id": "eX5t91r1BJ3k",
        "colab": {
          "base_uri": "https://localhost:8080/"
        },
        "outputId": "9de9e05d-8f9d-4ca0-faa7-f5d4fb211e23"
      },
      "execution_count": 34,
      "outputs": [
        {
          "output_type": "stream",
          "name": "stdout",
          "text": [
            "Respondents for ClinLR equals 4 or higher are :  282\n",
            "respondents with income less than $50,000 and attended at least some college are :98\n"
          ]
        }
      ]
    },
    {
      "cell_type": "markdown",
      "source": [
        "## 4. Calculating From Data Exercise\n",
        "\n",
        "For each of the below match-ups, choose the group that is more likely to vote for Bill Clinton. You can calculate this using the percentage of each group that intends to vote for Clinton (`vote`). Which match-up was the closest? Which had the biggest difference?\n",
        "\n",
        "Another way to think about this: Given that a respondent is a Democrat, there is a ____ percent chance they will vote for Clinton. How does this value change if the respondent is a Republican?\n",
        "\n",
        "*   Democrats or Republicans\n",
        "*   People younger than 44 or People 44 and older\n",
        "*   People who watch TV news at least 6 days a week or People who watch TV news less than 3 days a week\n",
        "*   People who live somewhere with a population greater than the average respondent or People who live in a place with a population equal to or less than the average respondent\n"
      ],
      "metadata": {
        "id": "g5GzVjqdLe82"
      }
    },
    {
      "cell_type": "code",
      "source": [
        "# Your code here"
      ],
      "metadata": {
        "id": "68hj5Vs6Lhz5"
      },
      "execution_count": null,
      "outputs": []
    },
    {
      "cell_type": "markdown",
      "source": [
        "## 5. Grouping Data Exercise\n",
        "\n",
        "Use the `groupby()` method to bucket respondents by `age_group`. Which age group is the most conservative? Which watches TV news the least?\n",
        "\n",
        "Next, calculate 5 percentile groups based on income. Group the dataset by these percentiles. Which income bracket is the most liberal? Which is the most conservative? The oldest? Highest educated?"
      ],
      "metadata": {
        "id": "Q68i6UUQLZrT"
      }
    },
    {
      "cell_type": "code",
      "source": [
        "# Your code here"
      ],
      "metadata": {
        "id": "eNrBrx6-LcBn"
      },
      "execution_count": null,
      "outputs": []
    },
    {
      "cell_type": "markdown",
      "source": [
        "## 6. Voting Across the Aisle\n",
        "\n",
        "We are interested in learning more about respondents who's political views differ strongly from the candidate they expect to vote for. Using `selfLR`, `vote`, `ClinLR`, and `DoleLR`, work through the following questions. Your interpretation may differ from the answer key.\n",
        "\n",
        "*   What is the largest recorded difference between a respondent's political leaning and their impression of their intended candidate's political leaning?\n",
        "*   How many respondents exhibit a difference of that magnitude?\n",
        "*   Make a separate DataFrame called `sway` that only includes voters who exhibit a difference greater than |3|.\n",
        "*   Among those in `sway`, are respondents more likely to be voting for a candidate more conservative or more liberal than their own political leaning?\n",
        "*   In `sway`, which candidate is the more popular choice?\n",
        "\n"
      ],
      "metadata": {
        "id": "_ySpfyk-LSUS"
      }
    },
    {
      "cell_type": "code",
      "source": [
        "# Your code here"
      ],
      "metadata": {
        "id": "pIFQCKBcLX9z"
      },
      "execution_count": null,
      "outputs": []
    },
    {
      "cell_type": "markdown",
      "source": [
        "# BSD 3-Clause License\n",
        "\n",
        "*Copyright (c) 2022, UC Berkeley School of Information*\n",
        "\n",
        "*All rights reserved.*\n",
        "\n",
        "*Redistribution and use in source and binary forms, with or without modification, are permitted provided that the following conditions are met:*\n",
        "\n",
        "*1. Redistributions of source code must retain the above copyright notice, this list of conditions and the following disclaimer.*\n",
        "\n",
        "*2. Redistributions in binary form must reproduce the above copyright notice, this list of conditions and the following disclaimer in the documentation and/or other materials provided with the distribution.*\n",
        "\n",
        "*3. Neither the name of the copyright holder nor the names of its contributors may be used to endorse or promote products derived from this software without specific prior written permission.*\n",
        "\n",
        "*THIS SOFTWARE IS PROVIDED BY THE COPYRIGHT HOLDERS AND CONTRIBUTORS \"AS IS\" AND ANY EXPRESS OR IMPLIED WARRANTIES, INCLUDING, BUT NOT LIMITED TO, THE IMPLIED WARRANTIES OF MERCHANTABILITY AND FITNESS FOR A PARTICULAR PURPOSE ARE DISCLAIMED. IN NO EVENT SHALL THE COPYRIGHT HOLDER OR CONTRIBUTORS BE LIABLE FOR ANY DIRECT, INDIRECT, INCIDENTAL, SPECIAL, EXEMPLARY, OR CONSEQUENTIAL DAMAGES (INCLUDING, BUT NOT LIMITED TO, PROCUREMENT OF SUBSTITUTE GOODS OR SERVICES; LOSS OF USE, DATA, OR PROFITS; OR BUSINESS INTERRUPTION) HOWEVER CAUSED AND ON ANY THEORY OF LIABILITY, WHETHER IN CONTRACT, STRICT LIABILITY, OR TORT (INCLUDING NEGLIGENCE OR OTHERWISE) ARISING IN ANY WAY OUT OF THE USE OF THIS SOFTWARE, EVEN IF ADVISED OF THE POSSIBILITY OF SUCH DAMAGE.*"
      ],
      "metadata": {
        "id": "HRJKA3UDLr-z"
      }
    }
  ]
}